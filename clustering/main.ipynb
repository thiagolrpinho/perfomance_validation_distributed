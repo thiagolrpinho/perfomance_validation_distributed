{
 "cells": [
  {
   "cell_type": "markdown",
   "metadata": {
    "ExecuteTime": {
     "end_time": "2020-04-14T18:21:06.284091Z",
     "start_time": "2020-04-14T18:21:06.276414Z"
    }
   },
   "source": [
    "# Evaluating clusters algorithms for user recomendation using text\n",
    "This notebook shall contain an k-means clustering algorithm and a siameses manhattan LSTM"
   ]
  },
  {
   "cell_type": "code",
   "execution_count": 18,
   "metadata": {
    "ExecuteTime": {
     "end_time": "2020-04-16T17:25:57.306412Z",
     "start_time": "2020-04-16T17:25:57.272175Z"
    }
   },
   "outputs": [],
   "source": [
    "import spacy\n",
    "from spacy.lang.pt.stop_words import STOP_WORDS\n",
    "from sklearn.decomposition import PCA, TruncatedSVD\n",
    "from sklearn.feature_extraction.text import CountVectorizer, TfidfTransformer\n",
    "from sklearn.pipeline import Pipeline\n",
    "from sklearn.cluster import KMeans\n",
    "from fastparquet import write\n",
    "import pandas as pd\n",
    "import matplotlib.pyplot as plt\n",
    "%matplotlib inline\n",
    "plt.style.use('fivethirtyeight')"
   ]
  },
  {
   "cell_type": "markdown",
   "metadata": {},
   "source": [
    "## 1. Loading data"
   ]
  },
  {
   "cell_type": "code",
   "execution_count": 2,
   "metadata": {
    "ExecuteTime": {
     "end_time": "2020-04-16T17:05:38.991752Z",
     "start_time": "2020-04-16T17:05:32.789534Z"
    }
   },
   "outputs": [
    {
     "name": "stdout",
     "output_type": "stream",
     "text": [
      "<class 'pandas.core.frame.DataFrame'>\n",
      "RangeIndex: 2036 entries, 0 to 2035\n",
      "Data columns (total 7 columns):\n",
      " #   Column         Non-Null Count  Dtype \n",
      "---  ------         --------------  ----- \n",
      " 0   process_class  2036 non-null   object\n",
      " 1   process_id     2036 non-null   object\n",
      " 2   doc_id         2036 non-null   object\n",
      " 3   path_img       2036 non-null   object\n",
      " 4   text           2036 non-null   object\n",
      " 5   doc_type       2036 non-null   object\n",
      " 6   num_pag        2036 non-null   int64 \n",
      "dtypes: int64(1), object(6)\n",
      "memory usage: 111.5+ KB\n",
      "None\n",
      "CPU times: user 5.73 s, sys: 431 ms, total: 6.16 s\n",
      "Wall time: 6.18 s\n"
     ]
    }
   ],
   "source": [
    "%%time \n",
    "RELATIVE_FOLDER_PATH = \"../assets/data/\"\n",
    "VECTOR_MODEL_NAME = \"pt_core_news_sm\"\n",
    "NLP_SPACY = spacy.load(VECTOR_MODEL_NAME)\n",
    "filename = \"data\"\n",
    "stopwords_set = set(STOP_WORDS)\n",
    "\n",
    "parquet_filename = RELATIVE_FOLDER_PATH + filename + \".parquet.gzip\"\n",
    "ailab_df = pd.read_parquet(parquet_filename)\n",
    "print(ailab_df.info())"
   ]
  },
  {
   "cell_type": "markdown",
   "metadata": {},
   "source": [
    "### 1.1  Sampling data\n",
    "As some text processement can take a long time, it's good to only process the necessary amount"
   ]
  },
  {
   "cell_type": "code",
   "execution_count": 3,
   "metadata": {
    "ExecuteTime": {
     "end_time": "2020-04-16T17:05:39.007614Z",
     "start_time": "2020-04-16T17:05:38.993904Z"
    }
   },
   "outputs": [
    {
     "name": "stdout",
     "output_type": "stream",
     "text": [
      "<class 'pandas.core.frame.DataFrame'>\n",
      "Int64Index: 200 entries, 1982 to 1213\n",
      "Data columns (total 7 columns):\n",
      " #   Column         Non-Null Count  Dtype \n",
      "---  ------         --------------  ----- \n",
      " 0   process_class  200 non-null    object\n",
      " 1   process_id     200 non-null    object\n",
      " 2   doc_id         200 non-null    object\n",
      " 3   path_img       200 non-null    object\n",
      " 4   text           200 non-null    object\n",
      " 5   doc_type       200 non-null    object\n",
      " 6   num_pag        200 non-null    int64 \n",
      "dtypes: int64(1), object(6)\n",
      "memory usage: 12.5+ KB\n",
      "None\n"
     ]
    }
   ],
   "source": [
    "sample_df = ailab_df.sample(n=200)\n",
    "print(sample_df.info())"
   ]
  },
  {
   "cell_type": "markdown",
   "metadata": {},
   "source": [
    "## 2. Counting and Vectorizing"
   ]
  },
  {
   "cell_type": "code",
   "execution_count": 4,
   "metadata": {
    "ExecuteTime": {
     "end_time": "2020-04-16T17:05:45.082215Z",
     "start_time": "2020-04-16T17:05:39.010222Z"
    }
   },
   "outputs": [
    {
     "name": "stdout",
     "output_type": "stream",
     "text": [
      "CPU times: user 5.9 s, sys: 36 ms, total: 5.93 s\n",
      "Wall time: 5.96 s\n"
     ]
    }
   ],
   "source": [
    "%%time\n",
    "tokenizer = NLP_SPACY.Defaults.create_tokenizer(NLP_SPACY)\n",
    "raw_text = sample_df['text'].to_list()\n",
    "\n",
    "tokenized_text = []\n",
    "for row in raw_text:\n",
    "    doc = tokenizer(row)\n",
    "    preprocessed_doc = [token for token in doc if not token.norm_ in stopwords_set]\n",
    "    tokenized_text.append(\" \".join([word.text for word in preprocessed_doc]))\n",
    "\n",
    "count_vectorizer = CountVectorizer()\n",
    "tfidf_transformer = TfidfTransformer()\n",
    "\n",
    "''' Encapsuling components in pipeline '''\n",
    "pipeline = Pipeline([\n",
    "    ('count_vectorizer', count_vectorizer),\n",
    "    ('tfidf_transformer', tfidf_transformer)\n",
    "])\n",
    "\n",
    "vectorized_docs = pipeline.fit_transform(tokenized_text)"
   ]
  },
  {
   "cell_type": "markdown",
   "metadata": {},
   "source": [
    "## 3. Clustering with k-means"
   ]
  },
  {
   "cell_type": "markdown",
   "metadata": {},
   "source": [
    "### 3.1 Finding the optimal number of clusters\n",
    "To find it, let's use the elbow curve analysis. In this analysis we try models from an interval of cluster numbers and using each model's cluster cohesion to score them. "
   ]
  },
  {
   "cell_type": "code",
   "execution_count": 10,
   "metadata": {
    "ExecuteTime": {
     "end_time": "2020-04-16T17:16:54.071358Z",
     "start_time": "2020-04-16T17:16:54.043433Z"
    }
   },
   "outputs": [
    {
     "name": "stdout",
     "output_type": "stream",
     "text": [
      "[KMeans(algorithm='auto', copy_x=True, init='k-means++', max_iter=600,\n",
      "       n_clusters=1, n_init=10, n_jobs=None, precompute_distances='auto',\n",
      "       random_state=None, tol=0.0001, verbose=0), KMeans(algorithm='auto', copy_x=True, init='k-means++', max_iter=600,\n",
      "       n_clusters=2, n_init=10, n_jobs=None, precompute_distances='auto',\n",
      "       random_state=None, tol=0.0001, verbose=0), KMeans(algorithm='auto', copy_x=True, init='k-means++', max_iter=600,\n",
      "       n_clusters=3, n_init=10, n_jobs=None, precompute_distances='auto',\n",
      "       random_state=None, tol=0.0001, verbose=0), KMeans(algorithm='auto', copy_x=True, init='k-means++', max_iter=600,\n",
      "       n_clusters=4, n_init=10, n_jobs=None, precompute_distances='auto',\n",
      "       random_state=None, tol=0.0001, verbose=0), KMeans(algorithm='auto', copy_x=True, init='k-means++', max_iter=600,\n",
      "       n_clusters=5, n_init=10, n_jobs=None, precompute_distances='auto',\n",
      "       random_state=None, tol=0.0001, verbose=0), KMeans(algorithm='auto', copy_x=True, init='k-means++', max_iter=600,\n",
      "       n_clusters=6, n_init=10, n_jobs=None, precompute_distances='auto',\n",
      "       random_state=None, tol=0.0001, verbose=0)]\n"
     ]
    }
   ],
   "source": [
    "number_clusters = range(1, 7)\n",
    "\n",
    "kmeans = [KMeans(n_clusters=i, max_iter = 600) for i in number_clusters]\n",
    "print(kmeans)"
   ]
  },
  {
   "cell_type": "code",
   "execution_count": 11,
   "metadata": {
    "ExecuteTime": {
     "end_time": "2020-04-16T17:17:43.560590Z",
     "start_time": "2020-04-16T17:16:56.976502Z"
    }
   },
   "outputs": [
    {
     "name": "stdout",
     "output_type": "stream",
     "text": [
      "[-183.97277714296757, -173.06252601536193, -169.81648385326756, -167.49092219356052, -164.85112638145455, -162.07313878381754]\n"
     ]
    }
   ],
   "source": [
    "score = [kmeans[i].fit(vectorized_docs).score(vectorized_docs) for i in range(len(kmeans))]\n",
    "print(score)"
   ]
  },
  {
   "cell_type": "code",
   "execution_count": 12,
   "metadata": {
    "ExecuteTime": {
     "end_time": "2020-04-16T17:17:44.118769Z",
     "start_time": "2020-04-16T17:17:43.567163Z"
    }
   },
   "outputs": [
    {
     "data": {
      "image/png": "[encoded data removed]",
      "text/plain": [
       "<Figure size 432x288 with 1 Axes>"
      ]
     },
     "metadata": {},
     "output_type": "display_data"
    }
   ],
   "source": [
    "plt.plot(number_clusters, score)\n",
    "plt.xlabel('Number of Clusters')\n",
    "plt.ylabel('Score')\n",
    "plt.title('Elbow Method')\n",
    "plt.show()"
   ]
  },
  {
   "cell_type": "markdown",
   "metadata": {},
   "source": [
    "### 3.2 Evaluting the optimal number of clusters\n",
    "On the last step we saw how after 3 cluster the improving in score slows down how much it changes.\n",
    "Let's choose 3 then."
   ]
  },
  {
   "cell_type": "code",
   "execution_count": 13,
   "metadata": {
    "ExecuteTime": {
     "end_time": "2020-04-16T17:20:55.937477Z",
     "start_time": "2020-04-16T17:20:47.609563Z"
    },
    "scrolled": false
   },
   "outputs": [
    {
     "name": "stdout",
     "output_type": "stream",
     "text": [
      "<class 'pandas.core.frame.DataFrame'>\n",
      "Int64Index: 200 entries, 1982 to 1213\n",
      "Data columns (total 8 columns):\n",
      " #   Column         Non-Null Count  Dtype \n",
      "---  ------         --------------  ----- \n",
      " 0   process_class  200 non-null    object\n",
      " 1   process_id     200 non-null    object\n",
      " 2   doc_id         200 non-null    object\n",
      " 3   path_img       200 non-null    object\n",
      " 4   text           200 non-null    object\n",
      " 5   doc_type       200 non-null    object\n",
      " 6   num_pag        200 non-null    int64 \n",
      " 7   cluster_label  200 non-null    int64 \n",
      "dtypes: int64(2), object(6)\n",
      "memory usage: 14.1+ KB\n",
      "CPU times: user 14 s, sys: 9 s, total: 23 s\n",
      "Wall time: 8.32 s\n"
     ]
    }
   ],
   "source": [
    "%%time\n",
    "kmeans = KMeans(3)\n",
    "kmeans.fit(vectorized_docs)\n",
    "kmeans_df = sample_df.copy()\n",
    "kmeans_df['cluster_label'] = [label for label in kmeans.labels_]\n",
    "kmeans_df.info()"
   ]
  },
  {
   "cell_type": "code",
   "execution_count": 20,
   "metadata": {
    "ExecuteTime": {
     "end_time": "2020-04-16T17:26:24.728435Z",
     "start_time": "2020-04-16T17:26:24.391234Z"
    }
   },
   "outputs": [],
   "source": [
    "sklearn_SVD = TruncatedSVD(n_components = 2)\n",
    "svd_docs = sklearn_SVD.fit_transform(vectorized_docs)\n",
    "kmeans = KMeans(n_clusters=3, max_iter=600, algorithm = 'auto')\n",
    "fitted = kmeans.fit(svd_docs)\n",
    "prediction = kmeans.predict(svd_docs)"
   ]
  },
  {
   "cell_type": "code",
   "execution_count": 29,
   "metadata": {
    "ExecuteTime": {
     "end_time": "2020-04-16T17:44:25.487203Z",
     "start_time": "2020-04-16T17:44:25.228428Z"
    }
   },
   "outputs": [
    {
     "data": {
      "image/png": "[encoded data removed]",
      "text/plain": [
       "<Figure size 864x864 with 1 Axes>"
      ]
     },
     "metadata": {},
     "output_type": "display_data"
    }
   ],
   "source": [
    "fig = plt.figure(figsize=(12, 12))\n",
    "plt.scatter(pca_docs[:, 0], pca_docs[:, 1], c=prediction)\n",
    "plt.title(\"Visual Representation for Clusters\")\n",
    "\n",
    "plt.show()"
   ]
  },
  {
   "cell_type": "code",
   "execution_count": 14,
   "metadata": {
    "ExecuteTime": {
     "end_time": "2020-04-16T17:21:00.108013Z",
     "start_time": "2020-04-16T17:21:00.081465Z"
    }
   },
   "outputs": [
    {
     "data": {
      "text/html": [
       "<div>\n",
       "<style scoped>\n",
       "    .dataframe tbody tr th:only-of-type {\n",
       "        vertical-align: middle;\n",
       "    }\n",
       "\n",
       "    .dataframe tbody tr th {\n",
       "        vertical-align: top;\n",
       "    }\n",
       "\n",
       "    .dataframe thead th {\n",
       "        text-align: right;\n",
       "    }\n",
       "</style>\n",
       "<table border=\"1\" class=\"dataframe\">\n",
       "  <thead>\n",
       "    <tr style=\"text-align: right;\">\n",
       "      <th></th>\n",
       "      <th>process_class</th>\n",
       "      <th>process_id</th>\n",
       "      <th>doc_id</th>\n",
       "      <th>path_img</th>\n",
       "      <th>text</th>\n",
       "      <th>doc_type</th>\n",
       "      <th>num_pag</th>\n",
       "      <th>cluster_label</th>\n",
       "    </tr>\n",
       "  </thead>\n",
       "  <tbody>\n",
       "    <tr>\n",
       "      <th>1982</th>\n",
       "      <td>ARE</td>\n",
       "      <td>827044</td>\n",
       "      <td>4916937</td>\n",
       "      <td>[b'./processos_imgs/acordao_de_2_instancia_pur...</td>\n",
       "      <td>ESTADO DO RIO DE JANEIRO\\nPODER JUDICIÁRIO\\n\\...</td>\n",
       "      <td>acordao_de_2_instancia_puro</td>\n",
       "      <td>5</td>\n",
       "      <td>0</td>\n",
       "    </tr>\n",
       "    <tr>\n",
       "      <th>1562</th>\n",
       "      <td>RE</td>\n",
       "      <td>1138645</td>\n",
       "      <td>314557527</td>\n",
       "      <td>[./processos_imgs/sentenca_puro/RE_1138645_314...</td>\n",
       "      <td>recurso. Vencidos, no ponto, os Ministros Cár...</td>\n",
       "      <td>sentenca_puro</td>\n",
       "      <td>9</td>\n",
       "      <td>2</td>\n",
       "    </tr>\n",
       "    <tr>\n",
       "      <th>1921</th>\n",
       "      <td>ARE</td>\n",
       "      <td>1062730</td>\n",
       "      <td>312269232</td>\n",
       "      <td>[b'./processos_imgs/agravo_em_recurso_extraord...</td>\n",
       "      <td>ga ESTADO DE SANTA CATARINA\\nPROCURADORIA GER...</td>\n",
       "      <td>agravo_em_recurso_extraordinario_puro</td>\n",
       "      <td>13</td>\n",
       "      <td>0</td>\n",
       "    </tr>\n",
       "    <tr>\n",
       "      <th>1311</th>\n",
       "      <td>ARE</td>\n",
       "      <td>823578</td>\n",
       "      <td>4828115</td>\n",
       "      <td>[./processos_imgs/sentenca_puro/ARE_823578_482...</td>\n",
       "      <td>ESTADO DE SANTA CATARINA\\nPODER JUDICIÁRIO\\n\\...</td>\n",
       "      <td>sentenca_puro</td>\n",
       "      <td>10</td>\n",
       "      <td>2</td>\n",
       "    </tr>\n",
       "    <tr>\n",
       "      <th>727</th>\n",
       "      <td>ARE</td>\n",
       "      <td>787966</td>\n",
       "      <td>5845285</td>\n",
       "      <td>[./processos_imgs/outros_puro/ARE_787966_58452...</td>\n",
       "      <td>PÁGINA DE SEPARAÇÃO\\n(Gerada automaticamente ...</td>\n",
       "      <td>outros_puro</td>\n",
       "      <td>1</td>\n",
       "      <td>1</td>\n",
       "    </tr>\n",
       "  </tbody>\n",
       "</table>\n",
       "</div>"
      ],
      "text/plain": [
       "     process_class process_id     doc_id  \\\n",
       "1982           ARE     827044    4916937   \n",
       "1562            RE    1138645  314557527   \n",
       "1921           ARE    1062730  312269232   \n",
       "1311           ARE     823578    4828115   \n",
       "727            ARE     787966    5845285   \n",
       "\n",
       "                                               path_img  \\\n",
       "1982  [b'./processos_imgs/acordao_de_2_instancia_pur...   \n",
       "1562  [./processos_imgs/sentenca_puro/RE_1138645_314...   \n",
       "1921  [b'./processos_imgs/agravo_em_recurso_extraord...   \n",
       "1311  [./processos_imgs/sentenca_puro/ARE_823578_482...   \n",
       "727   [./processos_imgs/outros_puro/ARE_787966_58452...   \n",
       "\n",
       "                                                   text  \\\n",
       "1982   ESTADO DO RIO DE JANEIRO\\nPODER JUDICIÁRIO\\n\\...   \n",
       "1562   recurso. Vencidos, no ponto, os Ministros Cár...   \n",
       "1921   ga ESTADO DE SANTA CATARINA\\nPROCURADORIA GER...   \n",
       "1311   ESTADO DE SANTA CATARINA\\nPODER JUDICIÁRIO\\n\\...   \n",
       "727    PÁGINA DE SEPARAÇÃO\\n(Gerada automaticamente ...   \n",
       "\n",
       "                                   doc_type  num_pag  cluster_label  \n",
       "1982            acordao_de_2_instancia_puro        5              0  \n",
       "1562                          sentenca_puro        9              2  \n",
       "1921  agravo_em_recurso_extraordinario_puro       13              0  \n",
       "1311                          sentenca_puro       10              2  \n",
       "727                             outros_puro        1              1  "
      ]
     },
     "execution_count": 14,
     "metadata": {},
     "output_type": "execute_result"
    }
   ],
   "source": [
    "kmeans_df.head()"
   ]
  },
  {
   "cell_type": "markdown",
   "metadata": {
    "ExecuteTime": {
     "end_time": "2020-04-16T17:09:39.001984Z",
     "start_time": "2020-04-16T17:09:38.989950Z"
    }
   },
   "source": [
    "## 4. Bibliography\n",
    "K-Means Clustering. Daniel Furlay. [Avaiablae at](https://towardsdatascience.com/k-means-clustering-8e1e64c1561c) Last visited: 16/04/2020 "
   ]
  },
  {
   "cell_type": "code",
   "execution_count": null,
   "metadata": {},
   "outputs": [],
   "source": []
  }
 ],
 "metadata": {
  "kernelspec": {
   "display_name": "Python 3",
   "language": "python",
   "name": "python3"
  },
  "language_info": {
   "codemirror_mode": {
    "name": "ipython",
    "version": 3
   },
   "file_extension": ".py",
   "mimetype": "text/x-python",
   "name": "python",
   "nbconvert_exporter": "python",
   "pygments_lexer": "ipython3",
   "version": "3.6.9"
  }
 },
 "nbformat": 4,
 "nbformat_minor": 4
}
