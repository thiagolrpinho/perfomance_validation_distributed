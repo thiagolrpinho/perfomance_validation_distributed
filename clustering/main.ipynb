{
 "cells": [
  {
   "cell_type": "markdown",
   "metadata": {
    "ExecuteTime": {
     "end_time": "2020-04-14T18:21:06.284091Z",
     "start_time": "2020-04-14T18:21:06.276414Z"
    }
   },
   "source": [
    "# Developing text clustering algorithms\n",
    "This notebook shall contain an k-means clustering algorithm and a siameses manhattan LSTM"
   ]
  },
  {
   "cell_type": "code",
   "execution_count": 1,
   "metadata": {
    "ExecuteTime": {
     "end_time": "2020-04-14T18:40:24.964376Z",
     "start_time": "2020-04-14T18:40:23.699987Z"
    }
   },
   "outputs": [],
   "source": [
    "import spacy\n",
    "from spacy.lang.pt.stop_words import STOP_WORDS\n",
    "from sklearn.feature_extraction.text import CountVectorizer, TfidfTransformer\n",
    "from sklearn.pipeline import Pipeline\n",
    "from sklearn.cluster import KMeans\n",
    "from fastparquet import write \n",
    "import pandas as pd"
   ]
  },
  {
   "cell_type": "markdown",
   "metadata": {},
   "source": [
    "## 1. Loading data"
   ]
  },
  {
   "cell_type": "code",
   "execution_count": 2,
   "metadata": {
    "ExecuteTime": {
     "end_time": "2020-04-14T18:40:30.616860Z",
     "start_time": "2020-04-14T18:40:24.966612Z"
    }
   },
   "outputs": [
    {
     "name": "stdout",
     "output_type": "stream",
     "text": [
      "<class 'pandas.core.frame.DataFrame'>\n",
      "RangeIndex: 2036 entries, 0 to 2035\n",
      "Data columns (total 7 columns):\n",
      " #   Column         Non-Null Count  Dtype \n",
      "---  ------         --------------  ----- \n",
      " 0   process_class  2036 non-null   object\n",
      " 1   process_id     2036 non-null   object\n",
      " 2   doc_id         2036 non-null   object\n",
      " 3   path_img       2036 non-null   object\n",
      " 4   text           2036 non-null   object\n",
      " 5   doc_type       2036 non-null   object\n",
      " 6   num_pag        2036 non-null   int64 \n",
      "dtypes: int64(1), object(6)\n",
      "memory usage: 111.5+ KB\n",
      "None\n",
      "CPU times: user 5.21 s, sys: 422 ms, total: 5.63 s\n",
      "Wall time: 5.64 s\n"
     ]
    }
   ],
   "source": [
    "%%time \n",
    "RELATIVE_FOLDER_PATH = \"../assets/data/\"\n",
    "VECTOR_MODEL_NAME = \"pt_core_news_sm\"\n",
    "NLP_SPACY = spacy.load(VECTOR_MODEL_NAME)\n",
    "filename = \"data\"\n",
    "stopwords_set = set(STOP_WORDS)\n",
    "\n",
    "parquet_filename = RELATIVE_FOLDER_PATH + filename + \".parquet.gzip\"\n",
    "ailab_df = pd.read_parquet(parquet_filename)\n",
    "print(ailab_df.info())"
   ]
  },
  {
   "cell_type": "markdown",
   "metadata": {},
   "source": [
    "### 1.1  Sampling data\n",
    "As some text processement can take a long time, it's good to only process the necessary amount"
   ]
  },
  {
   "cell_type": "code",
   "execution_count": 3,
   "metadata": {
    "ExecuteTime": {
     "end_time": "2020-04-14T18:40:30.637981Z",
     "start_time": "2020-04-14T18:40:30.619944Z"
    }
   },
   "outputs": [
    {
     "name": "stdout",
     "output_type": "stream",
     "text": [
      "<class 'pandas.core.frame.DataFrame'>\n",
      "Int64Index: 200 entries, 687 to 778\n",
      "Data columns (total 7 columns):\n",
      " #   Column         Non-Null Count  Dtype \n",
      "---  ------         --------------  ----- \n",
      " 0   process_class  200 non-null    object\n",
      " 1   process_id     200 non-null    object\n",
      " 2   doc_id         200 non-null    object\n",
      " 3   path_img       200 non-null    object\n",
      " 4   text           200 non-null    object\n",
      " 5   doc_type       200 non-null    object\n",
      " 6   num_pag        200 non-null    int64 \n",
      "dtypes: int64(1), object(6)\n",
      "memory usage: 12.5+ KB\n",
      "None\n"
     ]
    }
   ],
   "source": [
    "sample_df = ailab_df.sample(n=200)\n",
    "print(sample_df.info())"
   ]
  },
  {
   "cell_type": "markdown",
   "metadata": {},
   "source": [
    "## 2. Counting and Vectorizing"
   ]
  },
  {
   "cell_type": "code",
   "execution_count": 4,
   "metadata": {
    "ExecuteTime": {
     "end_time": "2020-04-14T18:40:36.326804Z",
     "start_time": "2020-04-14T18:40:30.641116Z"
    }
   },
   "outputs": [
    {
     "name": "stdout",
     "output_type": "stream",
     "text": [
      "CPU times: user 5.5 s, sys: 51.5 ms, total: 5.55 s\n",
      "Wall time: 5.57 s\n"
     ]
    }
   ],
   "source": [
    "%%time\n",
    "tokenizer = NLP_SPACY.Defaults.create_tokenizer(NLP_SPACY)\n",
    "raw_text = sample_df['text'].to_list()\n",
    "\n",
    "tokenized_text = []\n",
    "for row in raw_text:\n",
    "    doc = tokenizer(row)\n",
    "    preprocessed_doc = [token for token in doc if not token.norm_ in stopwords_set]\n",
    "    tokenized_text.append(\" \".join([word.text for word in preprocessed_doc]))\n",
    "\n",
    "count_vectorizer = CountVectorizer()\n",
    "tfidf_transformer = TfidfTransformer()\n",
    "\n",
    "''' Encapsuling components in pipeline '''\n",
    "pipeline = Pipeline([\n",
    "    ('count_vectorizer', count_vectorizer),\n",
    "    ('tfidf_transformer', tfidf_transformer)\n",
    "])\n",
    "\n",
    "vectorized_docs = pipeline.fit_transform(tokenized_text)"
   ]
  },
  {
   "cell_type": "markdown",
   "metadata": {},
   "source": [
    "## 3. Clustering with k-means"
   ]
  },
  {
   "cell_type": "code",
   "execution_count": 5,
   "metadata": {
    "ExecuteTime": {
     "end_time": "2020-04-14T18:40:46.803414Z",
     "start_time": "2020-04-14T18:40:36.328615Z"
    }
   },
   "outputs": [
    {
     "name": "stdout",
     "output_type": "stream",
     "text": [
      "<class 'pandas.core.frame.DataFrame'>\n",
      "Int64Index: 200 entries, 687 to 778\n",
      "Data columns (total 8 columns):\n",
      " #   Column         Non-Null Count  Dtype \n",
      "---  ------         --------------  ----- \n",
      " 0   process_class  200 non-null    object\n",
      " 1   process_id     200 non-null    object\n",
      " 2   doc_id         200 non-null    object\n",
      " 3   path_img       200 non-null    object\n",
      " 4   text           200 non-null    object\n",
      " 5   doc_type       200 non-null    object\n",
      " 6   num_pag        200 non-null    int64 \n",
      " 7   cluster_label  200 non-null    int64 \n",
      "dtypes: int64(2), object(6)\n",
      "memory usage: 14.1+ KB\n",
      "CPU times: user 16.6 s, sys: 9.91 s, total: 26.5 s\n",
      "Wall time: 10.5 s\n"
     ]
    }
   ],
   "source": [
    "%%time\n",
    "kmeans = KMeans(6)\n",
    "kmeans.fit(vectorized_docs)\n",
    "kmeans_df = sample_df.copy()\n",
    "kmeans_df['cluster_label'] = [label for label in kmeans.labels_]\n",
    "kmeans_df.info()"
   ]
  },
  {
   "cell_type": "code",
   "execution_count": 7,
   "metadata": {
    "ExecuteTime": {
     "end_time": "2020-04-14T18:41:06.385750Z",
     "start_time": "2020-04-14T18:41:06.246877Z"
    }
   },
   "outputs": [
    {
     "data": {
      "text/html": [
       "<div>\n",
       "<style scoped>\n",
       "    .dataframe tbody tr th:only-of-type {\n",
       "        vertical-align: middle;\n",
       "    }\n",
       "\n",
       "    .dataframe tbody tr th {\n",
       "        vertical-align: top;\n",
       "    }\n",
       "\n",
       "    .dataframe thead th {\n",
       "        text-align: right;\n",
       "    }\n",
       "</style>\n",
       "<table border=\"1\" class=\"dataframe\">\n",
       "  <thead>\n",
       "    <tr style=\"text-align: right;\">\n",
       "      <th></th>\n",
       "      <th>process_class</th>\n",
       "      <th>process_id</th>\n",
       "      <th>doc_id</th>\n",
       "      <th>path_img</th>\n",
       "      <th>text</th>\n",
       "      <th>doc_type</th>\n",
       "      <th>num_pag</th>\n",
       "      <th>cluster_label</th>\n",
       "    </tr>\n",
       "  </thead>\n",
       "  <tbody>\n",
       "    <tr>\n",
       "      <th>687</th>\n",
       "      <td>ARE</td>\n",
       "      <td>787966</td>\n",
       "      <td>3772555</td>\n",
       "      <td>[./processos_imgs/outros_puro/ARE_787966_37725...</td>\n",
       "      <td>PÁGINA DE SEPARAÇÃO\\n(Gerada automaticamente ...</td>\n",
       "      <td>outros_puro</td>\n",
       "      <td>1</td>\n",
       "      <td>1</td>\n",
       "    </tr>\n",
       "    <tr>\n",
       "      <th>350</th>\n",
       "      <td>ARE</td>\n",
       "      <td>811207</td>\n",
       "      <td>4428326</td>\n",
       "      <td>[./processos_imgs/outros_puro/ARE_811207_44283...</td>\n",
       "      <td>PÁGINA DE SEPARAÇÃO\\n(Gerada automaticamente ...</td>\n",
       "      <td>outros_puro</td>\n",
       "      <td>1</td>\n",
       "      <td>1</td>\n",
       "    </tr>\n",
       "    <tr>\n",
       "      <th>28</th>\n",
       "      <td>ARE</td>\n",
       "      <td>956225</td>\n",
       "      <td>308960860</td>\n",
       "      <td>[./processos_imgs/despacho_de_admissibilidade_...</td>\n",
       "      <td>ADMINISTRAÇÃO.” 4. Agravo regimental DESPROVI...</td>\n",
       "      <td>despacho_de_admissibilidade_puro</td>\n",
       "      <td>3</td>\n",
       "      <td>2</td>\n",
       "    </tr>\n",
       "    <tr>\n",
       "      <th>1080</th>\n",
       "      <td>RE</td>\n",
       "      <td>763775</td>\n",
       "      <td>3210930</td>\n",
       "      <td>[./processos_imgs/peticao_do_RE_puro/RE_763775...</td>\n",
       "      <td>que constitui direito sociat ligado à cidadan...</td>\n",
       "      <td>peticao_do_RE_puro</td>\n",
       "      <td>47</td>\n",
       "      <td>2</td>\n",
       "    </tr>\n",
       "    <tr>\n",
       "      <th>1409</th>\n",
       "      <td>ARE</td>\n",
       "      <td>824506</td>\n",
       "      <td>4849148</td>\n",
       "      <td>[./processos_imgs/sentenca_puro/ARE_824506_484...</td>\n",
       "      <td>fis. 95\\n\\nESTADO DE SANTA CATARINA Justiça G...</td>\n",
       "      <td>sentenca_puro</td>\n",
       "      <td>3</td>\n",
       "      <td>0</td>\n",
       "    </tr>\n",
       "  </tbody>\n",
       "</table>\n",
       "</div>"
      ],
      "text/plain": [
       "     process_class process_id     doc_id  \\\n",
       "687            ARE     787966    3772555   \n",
       "350            ARE     811207    4428326   \n",
       "28             ARE     956225  308960860   \n",
       "1080            RE     763775    3210930   \n",
       "1409           ARE     824506    4849148   \n",
       "\n",
       "                                               path_img  \\\n",
       "687   [./processos_imgs/outros_puro/ARE_787966_37725...   \n",
       "350   [./processos_imgs/outros_puro/ARE_811207_44283...   \n",
       "28    [./processos_imgs/despacho_de_admissibilidade_...   \n",
       "1080  [./processos_imgs/peticao_do_RE_puro/RE_763775...   \n",
       "1409  [./processos_imgs/sentenca_puro/ARE_824506_484...   \n",
       "\n",
       "                                                   text  \\\n",
       "687    PÁGINA DE SEPARAÇÃO\\n(Gerada automaticamente ...   \n",
       "350    PÁGINA DE SEPARAÇÃO\\n(Gerada automaticamente ...   \n",
       "28     ADMINISTRAÇÃO.” 4. Agravo regimental DESPROVI...   \n",
       "1080   que constitui direito sociat ligado à cidadan...   \n",
       "1409   fis. 95\\n\\nESTADO DE SANTA CATARINA Justiça G...   \n",
       "\n",
       "                              doc_type  num_pag  cluster_label  \n",
       "687                        outros_puro        1              1  \n",
       "350                        outros_puro        1              1  \n",
       "28    despacho_de_admissibilidade_puro        3              2  \n",
       "1080                peticao_do_RE_puro       47              2  \n",
       "1409                     sentenca_puro        3              0  "
      ]
     },
     "execution_count": 7,
     "metadata": {},
     "output_type": "execute_result"
    }
   ],
   "source": [
    "kmeans_df.head()"
   ]
  },
  {
   "cell_type": "code",
   "execution_count": null,
   "metadata": {},
   "outputs": [],
   "source": []
  }
 ],
 "metadata": {
  "kernelspec": {
   "display_name": "Python 3",
   "language": "python",
   "name": "python3"
  },
  "language_info": {
   "codemirror_mode": {
    "name": "ipython",
    "version": 3
   },
   "file_extension": ".py",
   "mimetype": "text/x-python",
   "name": "python",
   "nbconvert_exporter": "python",
   "pygments_lexer": "ipython3",
   "version": "3.6.9"
  }
 },
 "nbformat": 4,
 "nbformat_minor": 4
}
